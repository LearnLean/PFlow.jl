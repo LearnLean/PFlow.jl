{
 "cells": [
  {
   "cell_type": "markdown",
   "metadata": {},
   "source": [
    "# A Post Office – A Real Life Story\n",
    "\n",
    "*Paul Bayer, 2017-07-27*\n",
    "\n",
    "Let us begin with an everyday story: there is a small post office with one clerk serving the arriving customers. Customers have differing wishes leading to different serving times, from `1 - 5 minutes`. We have to add a little variation to serving times counting for variation in customer habits and clerk performance. The arrival rate of customers is about 18 per hour, every `3.33 minutes` or `3 minutes, 20 seconds` on average. Our post office is small and customer patience is limited, so queue length is limited to 5 customers. \n",
    "\n",
    "We have provided 10% extra capacity, so our expectation is that there should not be too many customers discouraged for long waiting times or for full queues.\n",
    "\n",
    "![](pictures/PostOffice.png)\n",
    "\n",
    "Let's do a simulation in [```Julia```](https://julialang.org) using [```SimJulia```](https://github.com/BenLauwens/SimJulia.jl). We need \n",
    "\n",
    "1. a source: all the **people**, providing an unlimited supply for customers,\n",
    "2. **customers** with their demands and their limited patience,\n",
    "3. a **queue** and\n",
    "4. our good old **clerk**."
   ]
  },
  {
   "cell_type": "code",
   "execution_count": 1,
   "metadata": {},
   "outputs": [
    {
     "name": "stdout",
     "output_type": "stream",
     "text": [
      "Int64[] yet in queue\n"
     ]
    }
   ],
   "source": [
    "using SimJulia, Distributions\n",
    "include(\"src/simlog.jl\")\n",
    "\n",
    "function people(sim::Simulation, β::Float64, queue::Array{Int64,1}, clerk::Resource)\n",
    "    i = 1\n",
    "    while true\n",
    "        Δt = rand(Exponential(β))\n",
    "        yield(Timeout(sim, Δt))\n",
    "        @process customer(sim, i, queue, clerk)\n",
    "        i += 1\n",
    "    end\n",
    "end\n",
    "\n",
    "function customer(sim::Simulation, n::Int64, queue::Array{Int64,1}, clerk::Resource)\n",
    "    wt = 0\n",
    "    if length(queue) ≥ 5\n",
    "        wt = -1\n",
    "        logevent(sim, n, queue, \"leaves - queue is full!\", wt)\n",
    "        return\n",
    "    else\n",
    "        arrivaltime = now(sim)\n",
    "        logevent(sim, n, queue, \"enqueues\", wt)\n",
    "        push!(queue, n)\n",
    "        yield(Request(clerk))\n",
    "        shift!(queue)\n",
    "        logevent(sim, n, queue, \"now being served\", wt)\n",
    "        Δt = rand(DiscreteUniform(1, 5)) + randn()*0.2\n",
    "        yield(Timeout(sim, Δt))\n",
    "        yield(Release(clerk))\n",
    "        wt = now(sim)-arrivaltime\n",
    "        logevent(sim, n, queue, \"leaves\", wt)\n",
    "    end\n",
    "end\n",
    "\n",
    "simlog = newlog()                                                # provide some data logging\n",
    "ev = Dict(\"customer\"=>0, \"queue_len\"=>0, \"status\"=>\"\", \"wait_time\"=>0)\n",
    "dict2log(simlog, ev)\n",
    "\n",
    "function logevent(sim::Simulation, customer, queue, status, wt)\n",
    "    ev[\"customer\"] = customer\n",
    "    ev[\"queue_len\"] = length(queue)\n",
    "    ev[\"status\"] = status\n",
    "    if wt != 0\n",
    "        ev[\"wait_time\"] = wt\n",
    "    end\n",
    "    lognow(sim, simlog)\n",
    "end\n",
    "\n",
    "srand(1234)  # seed random number generator for reproducibility\n",
    "queue = Int64[]\n",
    "\n",
    "sim = Simulation()\n",
    "clerk = Resource(sim, 1)\n",
    "@process people(sim, 3.333, queue, clerk)\n",
    "run(sim, 600)\n",
    "d = log2df(simlog)                   # logged data to dataframe\n",
    "println(queue, \" yet in queue\")"
   ]
  },
  {
   "cell_type": "code",
   "execution_count": 2,
   "metadata": {},
   "outputs": [
    {
     "data": {
      "text/html": [
       "<table class=\"data-frame\"><thead><tr><th></th><th>time</th><th>customer</th><th>queue_len</th><th>status</th><th>wait_time</th></tr></thead><tbody><tr><th>1</th><td>8.277523406177503</td><td>1</td><td>0</td><td>enqueues</td><td>0.0</td></tr><tr><th>2</th><td>8.277523406177503</td><td>1</td><td>0</td><td>now being served</td><td>0.0</td></tr><tr><th>3</th><td>13.096940547404454</td><td>1</td><td>0</td><td>leaves</td><td>4.8194171412269515</td></tr><tr><th>4</th><td>13.332696522897287</td><td>2</td><td>0</td><td>enqueues</td><td>4.8194171412269515</td></tr><tr><th>5</th><td>13.332696522897287</td><td>2</td><td>0</td><td>now being served</td><td>4.8194171412269515</td></tr><tr><th>6</th><td>17.439259179331195</td><td>2</td><td>0</td><td>leaves</td><td>4.106562656433908</td></tr><tr><th>7</th><td>17.68732645485233</td><td>3</td><td>0</td><td>enqueues</td><td>4.106562656433908</td></tr><tr><th>8</th><td>17.68732645485233</td><td>3</td><td>0</td><td>now being served</td><td>4.106562656433908</td></tr><tr><th>9</th><td>18.835329261870097</td><td>4</td><td>0</td><td>enqueues</td><td>4.106562656433908</td></tr><tr><th>10</th><td>19.583929730713674</td><td>3</td><td>1</td><td>leaves</td><td>1.8966032758613451</td></tr><tr><th>11</th><td>19.583929730713674</td><td>4</td><td>0</td><td>now being served</td><td>1.8966032758613451</td></tr><tr><th>12</th><td>21.09767527924088</td><td>5</td><td>0</td><td>enqueues</td><td>1.8966032758613451</td></tr><tr><th>13</th><td>21.6095426176167</td><td>4</td><td>1</td><td>leaves</td><td>2.7742133557466033</td></tr><tr><th>14</th><td>21.6095426176167</td><td>5</td><td>0</td><td>now being served</td><td>2.7742133557466033</td></tr><tr><th>15</th><td>24.631561842881133</td><td>5</td><td>0</td><td>leaves</td><td>3.5338865636402517</td></tr><tr><th>16</th><td>25.66075162145239</td><td>6</td><td>0</td><td>enqueues</td><td>3.5338865636402517</td></tr><tr><th>17</th><td>25.66075162145239</td><td>6</td><td>0</td><td>now being served</td><td>3.5338865636402517</td></tr><tr><th>18</th><td>26.72189587724472</td><td>7</td><td>0</td><td>enqueues</td><td>3.5338865636402517</td></tr><tr><th>19</th><td>27.675174892082644</td><td>6</td><td>1</td><td>leaves</td><td>2.014423270630253</td></tr><tr><th>20</th><td>27.675174892082644</td><td>7</td><td>0</td><td>now being served</td><td>2.014423270630253</td></tr><tr><th>21</th><td>28.39582781871597</td><td>7</td><td>0</td><td>leaves</td><td>1.673931941471249</td></tr><tr><th>22</th><td>29.600002782205003</td><td>8</td><td>0</td><td>enqueues</td><td>1.673931941471249</td></tr><tr><th>23</th><td>29.600002782205003</td><td>8</td><td>0</td><td>now being served</td><td>1.673931941471249</td></tr><tr><th>24</th><td>33.95773085222022</td><td>8</td><td>0</td><td>leaves</td><td>4.35772807001522</td></tr><tr><th>25</th><td>35.700529235002804</td><td>9</td><td>0</td><td>enqueues</td><td>4.35772807001522</td></tr><tr><th>26</th><td>35.700529235002804</td><td>9</td><td>0</td><td>now being served</td><td>4.35772807001522</td></tr><tr><th>27</th><td>35.9357755778578</td><td>10</td><td>0</td><td>enqueues</td><td>4.35772807001522</td></tr><tr><th>28</th><td>37.128737975751015</td><td>11</td><td>1</td><td>enqueues</td><td>4.35772807001522</td></tr><tr><th>29</th><td>37.731619068633144</td><td>12</td><td>2</td><td>enqueues</td><td>4.35772807001522</td></tr><tr><th>30</th><td>37.854384887109724</td><td>9</td><td>3</td><td>leaves</td><td>2.1538556521069196</td></tr><tr><th>&vellip;</th><td>&vellip;</td><td>&vellip;</td><td>&vellip;</td><td>&vellip;</td><td>&vellip;</td></tr></tbody></table>"
      ],
      "text/plain": [
       "522×5 DataFrames.DataFrame\n",
       "│ Row │ time    │ customer │ queue_len │ status             │ wait_time │\n",
       "├─────┼─────────┼──────────┼───────────┼────────────────────┼───────────┤\n",
       "│ 1   │ 8.27752 │ 1        │ 0         │ \"enqueues\"         │ 0.0       │\n",
       "│ 2   │ 8.27752 │ 1        │ 0         │ \"now being served\" │ 0.0       │\n",
       "│ 3   │ 13.0969 │ 1        │ 0         │ \"leaves\"           │ 4.81942   │\n",
       "│ 4   │ 13.3327 │ 2        │ 0         │ \"enqueues\"         │ 4.81942   │\n",
       "│ 5   │ 13.3327 │ 2        │ 0         │ \"now being served\" │ 4.81942   │\n",
       "│ 6   │ 17.4393 │ 2        │ 0         │ \"leaves\"           │ 4.10656   │\n",
       "│ 7   │ 17.6873 │ 3        │ 0         │ \"enqueues\"         │ 4.10656   │\n",
       "│ 8   │ 17.6873 │ 3        │ 0         │ \"now being served\" │ 4.10656   │\n",
       "│ 9   │ 18.8353 │ 4        │ 0         │ \"enqueues\"         │ 4.10656   │\n",
       "│ 10  │ 19.5839 │ 3        │ 1         │ \"leaves\"           │ 1.8966    │\n",
       "│ 11  │ 19.5839 │ 4        │ 0         │ \"now being served\" │ 1.8966    │\n",
       "⋮\n",
       "│ 511 │ 586.117 │ 186      │ 1         │ \"enqueues\"         │ 11.1556   │\n",
       "│ 512 │ 586.263 │ 184      │ 2         │ \"leaves\"           │ 7.02381   │\n",
       "│ 513 │ 586.263 │ 185      │ 1         │ \"now being served\" │ 7.02381   │\n",
       "│ 514 │ 587.456 │ 185      │ 1         │ \"leaves\"           │ 4.64259   │\n",
       "│ 515 │ 587.456 │ 186      │ 0         │ \"now being served\" │ 4.64259   │\n",
       "│ 516 │ 589.687 │ 187      │ 0         │ \"enqueues\"         │ 4.64259   │\n",
       "│ 517 │ 590.791 │ 186      │ 1         │ \"leaves\"           │ 4.67381   │\n",
       "│ 518 │ 590.791 │ 187      │ 0         │ \"now being served\" │ 4.67381   │\n",
       "│ 519 │ 591.868 │ 187      │ 0         │ \"leaves\"           │ 2.18056   │\n",
       "│ 520 │ 596.881 │ 188      │ 0         │ \"enqueues\"         │ 2.18056   │\n",
       "│ 521 │ 596.881 │ 188      │ 0         │ \"now being served\" │ 2.18056   │\n",
       "│ 522 │ 597.993 │ 188      │ 0         │ \"leaves\"           │ 1.11237   │"
      ]
     },
     "execution_count": 2,
     "metadata": {},
     "output_type": "execute_result"
    }
   ],
   "source": [
    "d"
   ]
  },
  {
   "cell_type": "code",
   "execution_count": 3,
   "metadata": {},
   "outputs": [
    {
     "data": {
      "text/html": [
       "<table class=\"data-frame\"><thead><tr><th></th><th>time</th><th>customer</th><th>queue_len</th><th>status</th><th>wait_time</th></tr></thead><tbody><tr><th>1</th><td>590.790577593688</td><td>186</td><td>1</td><td>leaves</td><td>4.673814478395798</td></tr><tr><th>2</th><td>590.790577593688</td><td>187</td><td>0</td><td>now being served</td><td>4.673814478395798</td></tr><tr><th>3</th><td>591.8675254257583</td><td>187</td><td>0</td><td>leaves</td><td>2.1805566906148215</td></tr><tr><th>4</th><td>596.8808579075101</td><td>188</td><td>0</td><td>enqueues</td><td>2.1805566906148215</td></tr><tr><th>5</th><td>596.8808579075101</td><td>188</td><td>0</td><td>now being served</td><td>2.1805566906148215</td></tr><tr><th>6</th><td>597.993226414482</td><td>188</td><td>0</td><td>leaves</td><td>1.1123685069719613</td></tr></tbody></table>"
      ],
      "text/plain": [
       "6×5 DataFrames.DataFrame\n",
       "│ Row │ time    │ customer │ queue_len │ status             │ wait_time │\n",
       "├─────┼─────────┼──────────┼───────────┼────────────────────┼───────────┤\n",
       "│ 1   │ 590.791 │ 186      │ 1         │ \"leaves\"           │ 4.67381   │\n",
       "│ 2   │ 590.791 │ 187      │ 0         │ \"now being served\" │ 4.67381   │\n",
       "│ 3   │ 591.868 │ 187      │ 0         │ \"leaves\"           │ 2.18056   │\n",
       "│ 4   │ 596.881 │ 188      │ 0         │ \"enqueues\"         │ 2.18056   │\n",
       "│ 5   │ 596.881 │ 188      │ 0         │ \"now being served\" │ 2.18056   │\n",
       "│ 6   │ 597.993 │ 188      │ 0         │ \"leaves\"           │ 1.11237   │"
      ]
     },
     "execution_count": 3,
     "metadata": {},
     "output_type": "execute_result"
    }
   ],
   "source": [
    "tail(d)"
   ]
  },
  {
   "cell_type": "code",
   "execution_count": 4,
   "metadata": {},
   "outputs": [
    {
     "data": {
      "text/plain": [
       "522"
      ]
     },
     "execution_count": 4,
     "metadata": {},
     "output_type": "execute_result"
    }
   ],
   "source": [
    "nrow(d) # number of rows / registered events"
   ]
  },
  {
   "cell_type": "code",
   "execution_count": 5,
   "metadata": {},
   "outputs": [
    {
     "name": "stdout",
     "output_type": "stream",
     "text": [
      "Summary Stats:\n",
      "Mean:           10.300792\n",
      "Minimum:        1.112369\n",
      "1st Quartile:   5.620331\n",
      "Median:         10.194662\n",
      "3rd Quartile:   14.332904\n",
      "Maximum:        21.035988\n",
      "Length:         499\n",
      "Type:           Float64\n",
      "Number Missing: 0\n",
      "% Missing:      0.000000\n"
     ]
    }
   ],
   "source": [
    "describe(d[d[:wait_time] .> 0, :wait_time])"
   ]
  },
  {
   "cell_type": "markdown",
   "metadata": {},
   "source": [
    "In `600` minutes simulation time, we registered `188` customers and `522` events. The mean and median waiting times were slightly above 10 minutes."
   ]
  },
  {
   "cell_type": "code",
   "execution_count": 6,
   "metadata": {},
   "outputs": [
    {
     "data": {
      "text/html": [
       "<table class=\"data-frame\"><thead><tr><th></th><th>status</th><th>x1</th></tr></thead><tbody><tr><th>1</th><td>enqueues</td><td>167</td></tr><tr><th>2</th><td>leaves</td><td>167</td></tr><tr><th>3</th><td>leaves - queue is full!</td><td>21</td></tr><tr><th>4</th><td>now being served</td><td>167</td></tr></tbody></table>"
      ],
      "text/plain": [
       "4×2 DataFrames.DataFrame\n",
       "│ Row │ status                    │ x1  │\n",
       "├─────┼───────────────────────────┼─────┤\n",
       "│ 1   │ \"enqueues\"                │ 167 │\n",
       "│ 2   │ \"leaves\"                  │ 167 │\n",
       "│ 3   │ \"leaves - queue is full!\" │ 21  │\n",
       "│ 4   │ \"now being served\"        │ 167 │"
      ]
     },
     "execution_count": 6,
     "metadata": {},
     "output_type": "execute_result"
    }
   ],
   "source": [
    "by(d, :status, df -> size(df, 1))"
   ]
  },
  {
   "cell_type": "markdown",
   "metadata": {},
   "source": [
    "Of the `188` customers, `167` participated in the whole process and were served, but `21` left beforehand because the queue was full. "
   ]
  },
  {
   "cell_type": "code",
   "execution_count": 7,
   "metadata": {},
   "outputs": [
    {
     "data": {
      "text/html": [
       "<table class=\"data-frame\"><thead><tr><th></th><th>time</th><th>customer</th><th>queue_len</th><th>status</th><th>wait_time</th></tr></thead><tbody><tr><th>1</th><td>63.10114377128373</td><td>24</td><td>5</td><td>leaves - queue is full!</td><td>-1.0</td></tr><tr><th>2</th><td>66.44284148119657</td><td>26</td><td>5</td><td>leaves - queue is full!</td><td>-1.0</td></tr><tr><th>3</th><td>234.4625822073755</td><td>69</td><td>5</td><td>leaves - queue is full!</td><td>-1.0</td></tr><tr><th>4</th><td>296.4473911757214</td><td>87</td><td>5</td><td>leaves - queue is full!</td><td>-1.0</td></tr><tr><th>5</th><td>297.7386681881535</td><td>88</td><td>5</td><td>leaves - queue is full!</td><td>-1.0</td></tr><tr><th>6</th><td>299.46941323548623</td><td>89</td><td>5</td><td>leaves - queue is full!</td><td>-1.0</td></tr><tr><th>7</th><td>304.09019438966897</td><td>91</td><td>5</td><td>leaves - queue is full!</td><td>-1.0</td></tr><tr><th>8</th><td>304.2694758639154</td><td>92</td><td>5</td><td>leaves - queue is full!</td><td>-1.0</td></tr><tr><th>9</th><td>309.1921637463392</td><td>94</td><td>5</td><td>leaves - queue is full!</td><td>-1.0</td></tr><tr><th>10</th><td>310.80664555034787</td><td>96</td><td>5</td><td>leaves - queue is full!</td><td>-1.0</td></tr><tr><th>11</th><td>339.2125448741308</td><td>107</td><td>5</td><td>leaves - queue is full!</td><td>-1.0</td></tr><tr><th>12</th><td>341.68315601386684</td><td>109</td><td>5</td><td>leaves - queue is full!</td><td>-1.0</td></tr><tr><th>13</th><td>346.6627039574925</td><td>111</td><td>5</td><td>leaves - queue is full!</td><td>-1.0</td></tr><tr><th>14</th><td>370.1904467607948</td><td>119</td><td>5</td><td>leaves - queue is full!</td><td>-1.0</td></tr><tr><th>15</th><td>373.4302497089644</td><td>121</td><td>5</td><td>leaves - queue is full!</td><td>-1.0</td></tr><tr><th>16</th><td>375.22979679362675</td><td>123</td><td>5</td><td>leaves - queue is full!</td><td>-1.0</td></tr><tr><th>17</th><td>377.93758452038105</td><td>125</td><td>5</td><td>leaves - queue is full!</td><td>-1.0</td></tr><tr><th>18</th><td>410.49164260378194</td><td>135</td><td>5</td><td>leaves - queue is full!</td><td>-1.0</td></tr><tr><th>19</th><td>410.8382215149992</td><td>136</td><td>5</td><td>leaves - queue is full!</td><td>-1.0</td></tr><tr><th>20</th><td>446.9240011518931</td><td>148</td><td>5</td><td>leaves - queue is full!</td><td>-1.0</td></tr><tr><th>21</th><td>447.0237342366923</td><td>149</td><td>5</td><td>leaves - queue is full!</td><td>-1.0</td></tr></tbody></table>"
      ],
      "text/plain": [
       "21×5 DataFrames.SubDataFrame{Array{Int64,1}}\n",
       "│ Row │ time    │ customer │ queue_len │ status                    │ wait_time │\n",
       "├─────┼─────────┼──────────┼───────────┼───────────────────────────┼───────────┤\n",
       "│ 1   │ 63.1011 │ 24       │ 5         │ \"leaves - queue is full!\" │ -1.0      │\n",
       "│ 2   │ 66.4428 │ 26       │ 5         │ \"leaves - queue is full!\" │ -1.0      │\n",
       "│ 3   │ 234.463 │ 69       │ 5         │ \"leaves - queue is full!\" │ -1.0      │\n",
       "│ 4   │ 296.447 │ 87       │ 5         │ \"leaves - queue is full!\" │ -1.0      │\n",
       "│ 5   │ 297.739 │ 88       │ 5         │ \"leaves - queue is full!\" │ -1.0      │\n",
       "│ 6   │ 299.469 │ 89       │ 5         │ \"leaves - queue is full!\" │ -1.0      │\n",
       "│ 7   │ 304.09  │ 91       │ 5         │ \"leaves - queue is full!\" │ -1.0      │\n",
       "│ 8   │ 304.269 │ 92       │ 5         │ \"leaves - queue is full!\" │ -1.0      │\n",
       "│ 9   │ 309.192 │ 94       │ 5         │ \"leaves - queue is full!\" │ -1.0      │\n",
       "│ 10  │ 310.807 │ 96       │ 5         │ \"leaves - queue is full!\" │ -1.0      │\n",
       "│ 11  │ 339.213 │ 107      │ 5         │ \"leaves - queue is full!\" │ -1.0      │\n",
       "│ 12  │ 341.683 │ 109      │ 5         │ \"leaves - queue is full!\" │ -1.0      │\n",
       "│ 13  │ 346.663 │ 111      │ 5         │ \"leaves - queue is full!\" │ -1.0      │\n",
       "│ 14  │ 370.19  │ 119      │ 5         │ \"leaves - queue is full!\" │ -1.0      │\n",
       "│ 15  │ 373.43  │ 121      │ 5         │ \"leaves - queue is full!\" │ -1.0      │\n",
       "│ 16  │ 375.23  │ 123      │ 5         │ \"leaves - queue is full!\" │ -1.0      │\n",
       "│ 17  │ 377.938 │ 125      │ 5         │ \"leaves - queue is full!\" │ -1.0      │\n",
       "│ 18  │ 410.492 │ 135      │ 5         │ \"leaves - queue is full!\" │ -1.0      │\n",
       "│ 19  │ 410.838 │ 136      │ 5         │ \"leaves - queue is full!\" │ -1.0      │\n",
       "│ 20  │ 446.924 │ 148      │ 5         │ \"leaves - queue is full!\" │ -1.0      │\n",
       "│ 21  │ 447.024 │ 149      │ 5         │ \"leaves - queue is full!\" │ -1.0      │"
      ]
     },
     "execution_count": 7,
     "metadata": {},
     "output_type": "execute_result"
    }
   ],
   "source": [
    "view(d, d[:wait_time] .< 0)"
   ]
  },
  {
   "cell_type": "code",
   "execution_count": 8,
   "metadata": {},
   "outputs": [
    {
     "data": {
      "image/png": "[encoded data removed]",
      "text/plain": [
       "PyPlot.Figure(PyObject <matplotlib.figure.Figure object at 0x12b81f588>)"
      ]
     },
     "metadata": {},
     "output_type": "display_data"
    }
   ],
   "source": [
    "using PyPlot\n",
    "step(d[:time], d[:wait_time])\n",
    "step(d[:time], d[:queue_len])\n",
    "axhline(y=0, color=\"k\")\n",
    "grid()\n",
    "xlabel(\"time [min]\")\n",
    "ylabel(\"wait time [min], queue lenght\")\n",
    "title(\"Waiting Time in the Post Office\")\n",
    "legend([\"wait_time\", \"queue_len\"]);"
   ]
  },
  {
   "cell_type": "markdown",
   "metadata": {},
   "source": [
    "Many customers had waiting times of more than 10, 15 up to even 20 minutes. The negative waiting times were the `21` customers, which left because the queue was full.\n",
    "\n",
    "So many customers will remain angry. If this is the situation all days, our post office will have an evil reputation. What should we do?\n",
    "\n",
    "## Conclusion\n",
    "\n",
    "Even if our process runs within predetermined bounds (queue length, customer wishes …), it seems to fluctuate wildly and to produce unpredicted effects. We see here the **effects of variation** in arrivals, in demands and in serving time on system performance. In this case 10% extra capacity is not enough to provide enough buffer for variation and for customer service – even if our post clerk is the most willing person.\n",
    "\n",
    "Even for such a simple everyday system, we cannot say beforehand – without reality check – which throughput, waiting times, mean queue length, capacity utilization or customer satisfaction will emerge. Even more so for more complicated systems in production, service, projects and supply chains with multiple dependencies.\n",
    "\n",
    "If we had known the situation beforehand, we could have provided standby for our clerk or install an automatic stamp dispenser for cutting the short tasks … \n",
    "\n",
    "Finally, this is, what this Repository `PFlow` is all about: \n",
    "\n",
    "- to **check assumptions about processes by means of simulation** \n",
    "- to see what may happen beforehand and \n",
    "- to get processes and systems flow before they fail – as in this case – to deliver their expected outcomes. \n",
    "\n",
    "It is clear, that it must be **easier** to do than to write programs in Julia and to read and interpret long lists as demonstrated. The objective of this repository is to provide a simple open source framework for such tasks."
   ]
  },
  {
   "cell_type": "code",
   "execution_count": null,
   "metadata": {
    "collapsed": true
   },
   "outputs": [],
   "source": []
  }
 ],
 "metadata": {
  "kernelspec": {
   "display_name": "Julia 0.6.0",
   "language": "julia",
   "name": "julia-0.6"
  },
  "language_info": {
   "file_extension": ".jl",
   "mimetype": "application/julia",
   "name": "julia",
   "version": "0.6.0"
  }
 },
 "nbformat": 4,
 "nbformat_minor": 2
}
