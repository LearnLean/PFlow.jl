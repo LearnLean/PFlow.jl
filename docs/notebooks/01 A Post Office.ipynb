{
 "cells": [
  {
   "cell_type": "markdown",
   "metadata": {},
   "source": [
    "# A Post Office – A Real Life Story\n",
    "\n",
    "*Paul Bayer, 2017-09-21, v0.2*\n",
    "\n",
    "Let us begin with an everyday story: there is a small post office with one clerk serving the arriving customers. Customers have differing wishes leading to different serving times, from `1 - 5 minutes`. We have to add a little variation to serving times counting for variation in customer habits and clerk performance. The arrival rate of customers is about 18 per hour, every `3.33 minutes` or `3 minutes, 20 seconds` on average. Our post office is small and customer patience is limited, so queue length is limited to 5 customers. \n",
    "\n",
    "We have provided 10% extra capacity, so our expectation is that there should not be too many customers discouraged for long waiting times or for full queues.\n",
    "\n",
    "![](pictures/PostOffice.png)\n",
    "\n",
    "Let's do a simulation in [```Julia```](https://julialang.org) using Julia coroutines. We need \n",
    "\n",
    "1. a source: all the **people**, providing an unlimited supply for customers,\n",
    "2. **customers** with their demands and their limited patience,\n",
    "3. a **queue** and\n",
    "4. our good old **clerk**."
   ]
  },
  {
   "cell_type": "code",
   "execution_count": 1,
   "metadata": {},
   "outputs": [
    {
     "name": "stdout",
     "output_type": "stream",
     "text": [
      "Simulation ends after 194 ms - next event at:600.0 ≥ stime after 969 events\n",
      "0 customers yet in queue\n"
     ]
    }
   ],
   "source": [
    "using PFlow, Distributions, DataFrames\n",
    "\n",
    "mutable struct Customer\n",
    "    id::Int64\n",
    "    arrival::Float64\n",
    "    request::Int64\n",
    "\n",
    "    function Customer(n::Int64, arrival::Float64)\n",
    "        new(n, arrival, rand(DiscreteUniform(1, 5)))\n",
    "    end\n",
    "end\n",
    "\n",
    "full(q::Channel) = length(q.data) >= q.sz_max\n",
    "\n",
    "function people(sim::DES, β::Float64, queue::Channel)\n",
    "    i = 1\n",
    "    timer = 0.0\n",
    "    while true\n",
    "        Δt = rand(Exponential(β))\n",
    "        delayuntil(sim, timer + Δt)\n",
    "        timer += Δt\n",
    "        if !full(queue)\n",
    "            put!(queue, Customer(i, timer))\n",
    "            logevent(sim, i, queue, \"enqueues\", 0)\n",
    "        else\n",
    "            logevent(sim, i, queue, \"leaves - queue is full!\", -1)\n",
    "        end\n",
    "        i += 1\n",
    "    end\n",
    "end\n",
    "\n",
    "function clerk(sim::DES, queue::Channel)\n",
    "    while true\n",
    "        cust = take!(queue)\n",
    "        Δt = cust.request + randn()*0.2\n",
    "        logevent(sim, cust.id, queue, \"now being served\", sim.time - cust.arrival)\n",
    "        delay(sim, Δt)\n",
    "        logevent(sim, cust.id, queue, \"leaves\", sim.time - cust.arrival)\n",
    "    end\n",
    "end\n",
    "\n",
    "function logevent(sim::DES, customer, queue, status, wt)\n",
    "    push!(l[\"time\"], sim.time)\n",
    "    push!(l[\"cust\"], customer)\n",
    "    push!(l[\"qlen\"], length(queue.data))\n",
    "    push!(l[\"status\"], status)\n",
    "    push!(l[\"wtime\"], wt)\n",
    "end\n",
    "\n",
    "srand(1234)  # seed random number generator for reproducibility\n",
    "queue = Channel(5)\n",
    "\n",
    "sim = DES()\n",
    "l = Dict(\"time\"=>[], \"cust\"=>[], \"qlen\"=>[], \"status\"=>[], \"wtime\"=>[])\n",
    "p = @async people(sim, 3.333, queue)\n",
    "c = @async clerk(sim, queue)\n",
    "simulate(sim, 600, finish=false)\n",
    "d = DataFrame(time=round.(l[\"time\"],2), cust=l[\"cust\"], qlen=l[\"qlen\"], \n",
    "            status=l[\"status\"], wtime=round.(l[\"wtime\"],2))\n",
    "println(\"$(length(queue.data)) customers yet in queue\")"
   ]
  },
  {
   "cell_type": "code",
   "execution_count": 2,
   "metadata": {},
   "outputs": [
    {
     "data": {
      "text/html": [
       "<table class=\"data-frame\"><thead><tr><th></th><th>time</th><th>cust</th><th>qlen</th><th>status</th><th>wtime</th></tr></thead><tbody><tr><th>1</th><td>8.28</td><td>1</td><td>1</td><td>enqueues</td><td>0.0</td></tr><tr><th>2</th><td>9.0</td><td>1</td><td>0</td><td>now being served</td><td>0.72</td></tr><tr><th>3</th><td>10.29</td><td>2</td><td>1</td><td>enqueues</td><td>0.0</td></tr><tr><th>4</th><td>10.82</td><td>1</td><td>1</td><td>leaves</td><td>2.54</td></tr><tr><th>5</th><td>10.82</td><td>2</td><td>0</td><td>now being served</td><td>0.53</td></tr><tr><th>6</th><td>12.93</td><td>2</td><td>0</td><td>leaves</td><td>2.63</td></tr><tr><th>7</th><td>19.56</td><td>3</td><td>1</td><td>enqueues</td><td>0.0</td></tr><tr><th>8</th><td>20.0</td><td>3</td><td>0</td><td>now being served</td><td>0.44</td></tr><tr><th>9</th><td>20.9</td><td>3</td><td>0</td><td>leaves</td><td>1.34</td></tr><tr><th>10</th><td>20.95</td><td>4</td><td>1</td><td>enqueues</td><td>0.0</td></tr><tr><th>11</th><td>20.99</td><td>5</td><td>2</td><td>enqueues</td><td>0.0</td></tr><tr><th>12</th><td>20.99</td><td>4</td><td>1</td><td>now being served</td><td>0.04</td></tr><tr><th>13</th><td>23.82</td><td>4</td><td>1</td><td>leaves</td><td>2.87</td></tr><tr><th>14</th><td>23.82</td><td>5</td><td>0</td><td>now being served</td><td>2.83</td></tr><tr><th>15</th><td>24.85</td><td>5</td><td>0</td><td>leaves</td><td>3.86</td></tr><tr><th>16</th><td>25.55</td><td>6</td><td>1</td><td>enqueues</td><td>0.0</td></tr><tr><th>17</th><td>26.0</td><td>6</td><td>0</td><td>now being served</td><td>0.45</td></tr><tr><th>18</th><td>26.63</td><td>7</td><td>1</td><td>enqueues</td><td>0.0</td></tr><tr><th>19</th><td>28.52</td><td>8</td><td>2</td><td>enqueues</td><td>0.0</td></tr><tr><th>20</th><td>31.01</td><td>6</td><td>2</td><td>leaves</td><td>5.46</td></tr><tr><th>21</th><td>31.01</td><td>7</td><td>1</td><td>now being served</td><td>4.38</td></tr><tr><th>22</th><td>31.79</td><td>7</td><td>1</td><td>leaves</td><td>5.16</td></tr><tr><th>23</th><td>31.79</td><td>8</td><td>0</td><td>now being served</td><td>3.28</td></tr><tr><th>24</th><td>32.15</td><td>8</td><td>0</td><td>leaves</td><td>3.63</td></tr><tr><th>25</th><td>34.62</td><td>9</td><td>1</td><td>enqueues</td><td>0.0</td></tr><tr><th>26</th><td>34.75</td><td>10</td><td>2</td><td>enqueues</td><td>0.0</td></tr><tr><th>27</th><td>34.75</td><td>9</td><td>1</td><td>now being served</td><td>0.13</td></tr><tr><th>28</th><td>35.94</td><td>11</td><td>2</td><td>enqueues</td><td>0.0</td></tr><tr><th>29</th><td>36.63</td><td>9</td><td>2</td><td>leaves</td><td>2.01</td></tr><tr><th>30</th><td>36.63</td><td>10</td><td>1</td><td>now being served</td><td>1.88</td></tr><tr><th>&vellip;</th><td>&vellip;</td><td>&vellip;</td><td>&vellip;</td><td>&vellip;</td><td>&vellip;</td></tr></tbody></table>"
      ],
      "text/plain": [
       "542×5 DataFrames.DataFrame\n",
       "│ Row │ time   │ cust │ qlen │ status             │ wtime │\n",
       "├─────┼────────┼──────┼──────┼────────────────────┼───────┤\n",
       "│ 1   │ 8.28   │ 1    │ 1    │ \"enqueues\"         │ 0.0   │\n",
       "│ 2   │ 9.0    │ 1    │ 0    │ \"now being served\" │ 0.72  │\n",
       "│ 3   │ 10.29  │ 2    │ 1    │ \"enqueues\"         │ 0.0   │\n",
       "│ 4   │ 10.82  │ 1    │ 1    │ \"leaves\"           │ 2.54  │\n",
       "│ 5   │ 10.82  │ 2    │ 0    │ \"now being served\" │ 0.53  │\n",
       "│ 6   │ 12.93  │ 2    │ 0    │ \"leaves\"           │ 2.63  │\n",
       "│ 7   │ 19.56  │ 3    │ 1    │ \"enqueues\"         │ 0.0   │\n",
       "│ 8   │ 20.0   │ 3    │ 0    │ \"now being served\" │ 0.44  │\n",
       "│ 9   │ 20.9   │ 3    │ 0    │ \"leaves\"           │ 1.34  │\n",
       "│ 10  │ 20.95  │ 4    │ 1    │ \"enqueues\"         │ 0.0   │\n",
       "│ 11  │ 20.99  │ 5    │ 2    │ \"enqueues\"         │ 0.0   │\n",
       "⋮\n",
       "│ 531 │ 583.39 │ 186  │ 1    │ \"leaves\"           │ 8.57  │\n",
       "│ 532 │ 583.39 │ 187  │ 0    │ \"now being served\" │ 6.1   │\n",
       "│ 533 │ 583.52 │ 188  │ 1    │ \"enqueues\"         │ 0.0   │\n",
       "│ 534 │ 584.48 │ 189  │ 2    │ \"enqueues\"         │ 0.0   │\n",
       "│ 535 │ 587.17 │ 187  │ 2    │ \"leaves\"           │ 9.87  │\n",
       "│ 536 │ 587.17 │ 188  │ 1    │ \"now being served\" │ 3.65  │\n",
       "│ 537 │ 589.26 │ 190  │ 2    │ \"enqueues\"         │ 0.0   │\n",
       "│ 538 │ 590.21 │ 188  │ 2    │ \"leaves\"           │ 6.69  │\n",
       "│ 539 │ 590.21 │ 189  │ 1    │ \"now being served\" │ 5.73  │\n",
       "│ 540 │ 591.28 │ 189  │ 1    │ \"leaves\"           │ 6.8   │\n",
       "│ 541 │ 591.28 │ 190  │ 0    │ \"now being served\" │ 2.02  │\n",
       "│ 542 │ 592.22 │ 190  │ 0    │ \"leaves\"           │ 2.95  │"
      ]
     },
     "execution_count": 2,
     "metadata": {},
     "output_type": "execute_result"
    }
   ],
   "source": [
    "d"
   ]
  },
  {
   "cell_type": "code",
   "execution_count": 3,
   "metadata": {},
   "outputs": [
    {
     "data": {
      "text/html": [
       "<table class=\"data-frame\"><thead><tr><th></th><th>time</th><th>cust</th><th>qlen</th><th>status</th><th>wtime</th></tr></thead><tbody><tr><th>1</th><td>589.26</td><td>190</td><td>2</td><td>enqueues</td><td>0.0</td></tr><tr><th>2</th><td>590.21</td><td>188</td><td>2</td><td>leaves</td><td>6.69</td></tr><tr><th>3</th><td>590.21</td><td>189</td><td>1</td><td>now being served</td><td>5.73</td></tr><tr><th>4</th><td>591.28</td><td>189</td><td>1</td><td>leaves</td><td>6.8</td></tr><tr><th>5</th><td>591.28</td><td>190</td><td>0</td><td>now being served</td><td>2.02</td></tr><tr><th>6</th><td>592.22</td><td>190</td><td>0</td><td>leaves</td><td>2.95</td></tr></tbody></table>"
      ],
      "text/plain": [
       "6×5 DataFrames.DataFrame\n",
       "│ Row │ time   │ cust │ qlen │ status             │ wtime │\n",
       "├─────┼────────┼──────┼──────┼────────────────────┼───────┤\n",
       "│ 1   │ 589.26 │ 190  │ 2    │ \"enqueues\"         │ 0.0   │\n",
       "│ 2   │ 590.21 │ 188  │ 2    │ \"leaves\"           │ 6.69  │\n",
       "│ 3   │ 590.21 │ 189  │ 1    │ \"now being served\" │ 5.73  │\n",
       "│ 4   │ 591.28 │ 189  │ 1    │ \"leaves\"           │ 6.8   │\n",
       "│ 5   │ 591.28 │ 190  │ 0    │ \"now being served\" │ 2.02  │\n",
       "│ 6   │ 592.22 │ 190  │ 0    │ \"leaves\"           │ 2.95  │"
      ]
     },
     "execution_count": 3,
     "metadata": {},
     "output_type": "execute_result"
    }
   ],
   "source": [
    "tail(d)"
   ]
  },
  {
   "cell_type": "code",
   "execution_count": 4,
   "metadata": {},
   "outputs": [
    {
     "data": {
      "text/plain": [
       "542"
      ]
     },
     "execution_count": 4,
     "metadata": {},
     "output_type": "execute_result"
    }
   ],
   "source": [
    "nrow(d) # number of rows / registered events"
   ]
  },
  {
   "cell_type": "code",
   "execution_count": 5,
   "metadata": {},
   "outputs": [
    {
     "name": "stdout",
     "output_type": "stream",
     "text": [
      "Summary Stats:\n",
      "Mean:           8.813153\n",
      "Minimum:        0.040000\n",
      "1st Quartile:   4.997500\n",
      "Median:         8.210000\n",
      "3rd Quartile:   12.625000\n",
      "Maximum:        25.150000\n",
      "Length:         352\n",
      "Type:           Float64\n",
      "Number Missing: 0\n",
      "% Missing:      0.000000\n"
     ]
    }
   ],
   "source": [
    "describe(d[d[:wtime] .> 0, :wtime])"
   ]
  },
  {
   "cell_type": "markdown",
   "metadata": {},
   "source": [
    "In `600` minutes simulation time, we registered `190` customers and `542` events. The mean and median waiting times were slightly above 10 minutes."
   ]
  },
  {
   "cell_type": "code",
   "execution_count": 6,
   "metadata": {},
   "outputs": [
    {
     "data": {
      "text/html": [
       "<table class=\"data-frame\"><thead><tr><th></th><th>status</th><th>x1</th></tr></thead><tbody><tr><th>1</th><td>enqueues</td><td>176</td></tr><tr><th>2</th><td>now being served</td><td>176</td></tr><tr><th>3</th><td>leaves</td><td>176</td></tr><tr><th>4</th><td>leaves - queue is full!</td><td>14</td></tr></tbody></table>"
      ],
      "text/plain": [
       "4×2 DataFrames.DataFrame\n",
       "│ Row │ status                    │ x1  │\n",
       "├─────┼───────────────────────────┼─────┤\n",
       "│ 1   │ \"enqueues\"                │ 176 │\n",
       "│ 2   │ \"now being served\"        │ 176 │\n",
       "│ 3   │ \"leaves\"                  │ 176 │\n",
       "│ 4   │ \"leaves - queue is full!\" │ 14  │"
      ]
     },
     "execution_count": 6,
     "metadata": {},
     "output_type": "execute_result"
    }
   ],
   "source": [
    "by(d, :status, df -> size(df, 1))"
   ]
  },
  {
   "cell_type": "markdown",
   "metadata": {},
   "source": [
    "Of the `190` customers, `176` participated in the whole process and were served, but `14` left beforehand because the queue was full. "
   ]
  },
  {
   "cell_type": "code",
   "execution_count": 7,
   "metadata": {},
   "outputs": [
    {
     "data": {
      "text/html": [
       "<table class=\"data-frame\"><thead><tr><th></th><th>time</th><th>cust</th><th>qlen</th><th>status</th><th>wtime</th></tr></thead><tbody><tr><th>1</th><td>182.11</td><td>55</td><td>5</td><td>leaves - queue is full!</td><td>-1.0</td></tr><tr><th>2</th><td>258.25</td><td>77</td><td>5</td><td>leaves - queue is full!</td><td>-1.0</td></tr><tr><th>3</th><td>264.37</td><td>79</td><td>5</td><td>leaves - queue is full!</td><td>-1.0</td></tr><tr><th>4</th><td>264.87</td><td>80</td><td>5</td><td>leaves - queue is full!</td><td>-1.0</td></tr><tr><th>5</th><td>271.17</td><td>83</td><td>5</td><td>leaves - queue is full!</td><td>-1.0</td></tr><tr><th>6</th><td>376.07</td><td>116</td><td>5</td><td>leaves - queue is full!</td><td>-1.0</td></tr><tr><th>7</th><td>379.93</td><td>117</td><td>5</td><td>leaves - queue is full!</td><td>-1.0</td></tr><tr><th>8</th><td>407.45</td><td>127</td><td>5</td><td>leaves - queue is full!</td><td>-1.0</td></tr><tr><th>9</th><td>431.25</td><td>135</td><td>5</td><td>leaves - queue is full!</td><td>-1.0</td></tr><tr><th>10</th><td>432.66</td><td>137</td><td>5</td><td>leaves - queue is full!</td><td>-1.0</td></tr><tr><th>11</th><td>438.18</td><td>139</td><td>5</td><td>leaves - queue is full!</td><td>-1.0</td></tr><tr><th>12</th><td>446.44</td><td>144</td><td>5</td><td>leaves - queue is full!</td><td>-1.0</td></tr><tr><th>13</th><td>454.82</td><td>147</td><td>5</td><td>leaves - queue is full!</td><td>-1.0</td></tr><tr><th>14</th><td>503.14</td><td>165</td><td>5</td><td>leaves - queue is full!</td><td>-1.0</td></tr></tbody></table>"
      ],
      "text/plain": [
       "14×5 DataFrames.SubDataFrame{Array{Int64,1}}\n",
       "│ Row │ time   │ cust │ qlen │ status                    │ wtime │\n",
       "├─────┼────────┼──────┼──────┼───────────────────────────┼───────┤\n",
       "│ 1   │ 182.11 │ 55   │ 5    │ \"leaves - queue is full!\" │ -1.0  │\n",
       "│ 2   │ 258.25 │ 77   │ 5    │ \"leaves - queue is full!\" │ -1.0  │\n",
       "│ 3   │ 264.37 │ 79   │ 5    │ \"leaves - queue is full!\" │ -1.0  │\n",
       "│ 4   │ 264.87 │ 80   │ 5    │ \"leaves - queue is full!\" │ -1.0  │\n",
       "│ 5   │ 271.17 │ 83   │ 5    │ \"leaves - queue is full!\" │ -1.0  │\n",
       "│ 6   │ 376.07 │ 116  │ 5    │ \"leaves - queue is full!\" │ -1.0  │\n",
       "│ 7   │ 379.93 │ 117  │ 5    │ \"leaves - queue is full!\" │ -1.0  │\n",
       "│ 8   │ 407.45 │ 127  │ 5    │ \"leaves - queue is full!\" │ -1.0  │\n",
       "│ 9   │ 431.25 │ 135  │ 5    │ \"leaves - queue is full!\" │ -1.0  │\n",
       "│ 10  │ 432.66 │ 137  │ 5    │ \"leaves - queue is full!\" │ -1.0  │\n",
       "│ 11  │ 438.18 │ 139  │ 5    │ \"leaves - queue is full!\" │ -1.0  │\n",
       "│ 12  │ 446.44 │ 144  │ 5    │ \"leaves - queue is full!\" │ -1.0  │\n",
       "│ 13  │ 454.82 │ 147  │ 5    │ \"leaves - queue is full!\" │ -1.0  │\n",
       "│ 14  │ 503.14 │ 165  │ 5    │ \"leaves - queue is full!\" │ -1.0  │"
      ]
     },
     "execution_count": 7,
     "metadata": {},
     "output_type": "execute_result"
    }
   ],
   "source": [
    "view(d, d[:wtime] .< 0)"
   ]
  },
  {
   "cell_type": "code",
   "execution_count": 8,
   "metadata": {},
   "outputs": [
    {
     "data": {
      "image/png": "[encoded data removed]",
      "text/plain": [
       "PyPlot.Figure(PyObject <matplotlib.figure.Figure object at 0x12b835208>)"
      ]
     },
     "metadata": {},
     "output_type": "display_data"
    }
   ],
   "source": [
    "using PyPlot\n",
    "step(d[:time], d[:wtime])\n",
    "step(d[:time], d[:qlen])\n",
    "axhline(y=0, color=\"k\")\n",
    "grid()\n",
    "xlabel(\"time [min]\")\n",
    "ylabel(\"wait time [min], queue length\")\n",
    "title(\"Waiting Time in the Post Office\")\n",
    "legend([\"wait_time\", \"queue_len\"]);"
   ]
  },
  {
   "cell_type": "markdown",
   "metadata": {},
   "source": [
    "Many customers had waiting times of more than 10, 15 up to even more than 20 minutes. The negative waiting times were the `14` customers, which left because the queue was full.\n",
    "\n",
    "So many customers will remain angry. If this is the situation all days, our post office will have an evil reputation. What should we do?\n",
    "\n",
    "## Conclusion\n",
    "\n",
    "Even if our process runs within predetermined bounds (queue length, customer wishes …), it seems to fluctuate wildly and to produce unpredicted effects. We see here the **effects of variation** in arrivals, in demands and in serving time on system performance. In this case 10% extra capacity is not enough to provide enough buffer for variation and for customer service – even if our post clerk is the most willing person.\n",
    "\n",
    "Even for such a simple everyday system, we cannot say beforehand – without reality check – which throughput, waiting times, mean queue length, capacity utilization or customer satisfaction will emerge. Even more so for more complicated systems in production, service, projects and supply chains with multiple dependencies.\n",
    "\n",
    "If we had known the situation beforehand, we could have provided standby for our clerk or install an automatic stamp dispenser for cutting the short tasks … \n",
    "\n",
    "Finally, this is, what this Repository `PFlow` is all about: \n",
    "\n",
    "- to **check assumptions about processes by means of simulation** \n",
    "- to see what may happen beforehand and \n",
    "- to get processes and systems flow before they fail – as in this case – to deliver their expected outcomes. \n",
    "\n",
    "It is clear, that it must be **easier** to do than to write programs in Julia and to read and interpret long lists as demonstrated. The objective of this repository is to provide a simple open source framework for such tasks."
   ]
  },
  {
   "cell_type": "code",
   "execution_count": null,
   "metadata": {
    "collapsed": true
   },
   "outputs": [],
   "source": []
  }
 ],
 "metadata": {
  "kernelspec": {
   "display_name": "Julia 0.6.0",
   "language": "julia",
   "name": "julia-0.6"
  },
  "language_info": {
   "file_extension": ".jl",
   "mimetype": "application/julia",
   "name": "julia",
   "version": "0.6.0"
  }
 },
 "nbformat": 4,
 "nbformat_minor": 2
}
